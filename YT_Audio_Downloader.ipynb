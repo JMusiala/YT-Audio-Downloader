{
  "cells": [
    {
      "cell_type": "code",
      "execution_count": null,
      "id": "33d6cea1",
      "metadata": {
        "id": "33d6cea1"
      },
      "outputs": [],
      "source": [
        "from pytube import YouTube\n",
        "import os\n",
        "import time\n",
        "import librosa\n",
        "import numpy as np\n",
        "import soundfile as sf\n",
        "import shutil\n",
        "\n",
        "link = input(\"Enter the link of YouTube video you want to download:  \")\n",
        "yt = YouTube(link)\n",
        "\n",
        "#Showing details\n",
        "print(\"Title: \",yt.title)\n",
        "print(\"Number of views: \",yt.views)\n",
        "length_minutes = (round(yt.length/60))\n",
        "length_seconds = yt.length % 60\n",
        "my_lenght = length_minutes*60 + length_seconds\n",
        "print(\"Length of video: \",length_minutes ,\"minutes and \",length_seconds, \"seconds.\")\n",
        "print(\"Publish date: \",yt.publish_date)\n",
        "#Getting the audio only\n",
        "ys = yt.streams.get_audio_only()\n",
        "print(os.getcwd())\n",
        "#Starting download\n",
        "print(\"Downloading...\")\n",
        "my_path= 'E:/Staff_na_studia/Praca Inżynierska/Pliki Audio'\n",
        "myFile =ys.download(filename=(yt.title+'.mp3'),output_path=my_path)\n",
        "\n",
        "print(\"Download completed!\")\n",
        "time.sleep(2)\n",
        "print(yt.title+'.mp3')\n",
        "\n",
        "path = my_path + '/'+(yt.title+'.mp3')\n",
        "path = os.fspath(path)\n",
        "\n",
        "startMin= input(\"Wybierz startowy punkt wycięcia (minuta):  \")\n",
        "startSec = input(\"Wybierz startowy punkt wycięcia (sekunda):  \")\n",
        "endMin = input(\"Wybierz końcowy punkt wycięcia (minuta):  \")\n",
        "endSec = input(\"Wybierz końcowy punkt wycięcia (sekunda):  \")\n",
        "\n",
        "start_point = (int(startMin) *60 + int(startSec))\n",
        "end_point = (int(endMin)*60 +int(endSec))\n",
        "\n",
        "y, sr = librosa.load(path, offset=start_point, duration=(end_point-start_point))\n",
        "\n",
        "\n",
        "if (end_point-start_point)<60:\n",
        "    minutes = 0\n",
        "else:\n",
        "    minutes = (end_point-start_point)/60\n",
        "\n",
        "seconds = (end_point-start_point) - (minutes*60)\n",
        "\n",
        "os.curdir = 'E:/Staff_na_studia/Praca Inżynierska/Pliki Audio'\n",
        "print(os.curdir)\n",
        "#new_name = input(\"Nazwij nowy plik dźwiękowy:  \")\n",
        "sf.write(yt.title +'('+ str(minutes) + 'min, '+ str(seconds) +'sec).wav',y, sr,subtype='PCM_24')\n",
        "\n",
        "#start_path = my_path + '/'+(yt.title+'.mp3')\n",
        "#direct_path = 'E:/Staff_na_studia/Praca Inżynierska/Pliki Audio'+'/'+(yt.title+'.mp3')\n",
        "#shutil.move(start_path, direct_path)\n",
        "#wait(1)\n",
        "\n",
        "if os.path.exists((yt.title+'.mp3')):\n",
        "  os.remove((yt.title+'.mp3'))\n",
        "else:\n",
        "  print(\"The file does not exist\")"
      ]
    },
    {
      "cell_type": "code",
      "execution_count": null,
      "id": "ba779e32",
      "metadata": {
        "id": "ba779e32"
      },
      "outputs": [],
      "source": []
    }
  ],
  "metadata": {
    "kernelspec": {
      "display_name": "Python 3 (ipykernel)",
      "language": "python",
      "name": "python3"
    },
    "language_info": {
      "codemirror_mode": {
        "name": "ipython",
        "version": 3
      },
      "file_extension": ".py",
      "mimetype": "text/x-python",
      "name": "python",
      "nbconvert_exporter": "python",
      "pygments_lexer": "ipython3",
      "version": "3.9.12"
    },
    "colab": {
      "provenance": []
    }
  },
  "nbformat": 4,
  "nbformat_minor": 5
}